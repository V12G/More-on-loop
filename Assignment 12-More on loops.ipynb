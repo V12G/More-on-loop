{
 "cells": [
  {
   "cell_type": "code",
   "execution_count": 7,
   "id": "584000bc",
   "metadata": {},
   "outputs": [
    {
     "name": "stdout",
     "output_type": "stream",
     "text": [
      "Enter a number:123\n",
      "Revesrse number is: 321\n"
     ]
    }
   ],
   "source": [
    "# Write a python script to reverse a number.\n",
    "x=int(input(\"Enter a number:\"))\n",
    "reverse=0\n",
    "while x>0:\n",
    "    reverse=(reverse*10+x%10)\n",
    "    x=x//10\n",
    "print(\"Revesrse number is:\",reverse)\n",
    "    "
   ]
  },
  {
   "cell_type": "code",
   "execution_count": 32,
   "id": "f77208cc",
   "metadata": {},
   "outputs": [
    {
     "name": "stdout",
     "output_type": "stream",
     "text": [
      "Enter a number:7\n",
      "Given number is prime: 7\n"
     ]
    }
   ],
   "source": [
    "# Write a python script to check whether a given number is Prime or not.\n",
    "x=int(input(\"Enter a number:\"))\n",
    "i=1\n",
    "while x>i:\n",
    "    if x%2!=0 and x%x==0:\n",
    "        print(\"Given number is prime:\",x)\n",
    "        i+=1\n",
    "        break\n",
    "    else:\n",
    "        \n",
    "        print(\"Given number is not a prime number:\",x)\n",
    "        i+=1\n",
    "        break\n",
    "        "
   ]
  },
  {
   "cell_type": "code",
   "execution_count": 47,
   "id": "60dd8164",
   "metadata": {},
   "outputs": [
    {
     "name": "stdout",
     "output_type": "stream",
     "text": [
      "2 3 5 7 11 13 17 19 23 29 31 37 41 43 47 53 59 61 67 71 73 79 83 89 97 "
     ]
    }
   ],
   "source": [
    "# Write a python script to print all Prime numbers under 100.\n",
    "for i in range(1,101):\n",
    "    if i>1:\n",
    "        for j in range(2,i):\n",
    "            if i%j==0:\n",
    "                break\n",
    "        else:\n",
    "            print(i,end=' ')"
   ]
  },
  {
   "cell_type": "code",
   "execution_count": 49,
   "id": "857a549b",
   "metadata": {},
   "outputs": [
    {
     "name": "stdout",
     "output_type": "stream",
     "text": [
      "Enter initial number:9\n",
      "Enter the end number:80\n",
      "11 13 17 19 23 29 31 37 41 43 47 53 59 61 67 71 73 79 "
     ]
    }
   ],
   "source": [
    "''''Write a python script to print all Prime numbers between two given numbers (both\n",
    "values inclusive).'''\n",
    "l=int(input(\"Enter initial number:\"))\n",
    "u=int(input(\"Enter the end number:\"))\n",
    "\n",
    "for i in range(l,u+1):\n",
    "    if i>1:\n",
    "        for j in range(2,i):\n",
    "            if i%j==0:\n",
    "                break\n",
    "        else:\n",
    "            print(i,end=' ')"
   ]
  },
  {
   "cell_type": "code",
   "execution_count": 2,
   "id": "61fb9270",
   "metadata": {},
   "outputs": [
    {
     "name": "stdout",
     "output_type": "stream",
     "text": [
      "Enter a number:3\n",
      "5 is next prime from 3\n"
     ]
    }
   ],
   "source": [
    "# Write a python script to find next prime number of a given number.\n",
    "x=int(input(\"Enter a number:\"))\n",
    "k=x+1\n",
    "while k:\n",
    "    for i in range(2,k+1):\n",
    "        if k%i==0:\n",
    "            break\n",
    "    if i==k:\n",
    "            print(k,\"is next prime from\",x)\n",
    "            break\n",
    "    else:\n",
    "            k+=1"
   ]
  },
  {
   "cell_type": "code",
   "execution_count": 25,
   "id": "893c1411",
   "metadata": {},
   "outputs": [
    {
     "name": "stdout",
     "output_type": "stream",
     "text": [
      "Enter a number which how many prime number you want:5\n",
      "2 3 5 7 11 "
     ]
    }
   ],
   "source": [
    "# Write a python script to print first N prime numbers.\n",
    "N=int(input(\"Enter a number which how many prime number you want:\"))\n",
    "n=2\n",
    "while N!=0:\n",
    "    for i in range(2,n):\n",
    "        if n%i==0:\n",
    "            break\n",
    "    else:\n",
    "        print(n,end=' ')\n",
    "        N-=1\n",
    "    n+=1"
   ]
  },
  {
   "cell_type": "code",
   "execution_count": 37,
   "id": "ab286266",
   "metadata": {},
   "outputs": [
    {
     "name": "stdout",
     "output_type": "stream",
     "text": [
      "Enter 1st number:2\n",
      "Enter 2nd number:3\n",
      "Given numbers are co-prime:\n"
     ]
    }
   ],
   "source": [
    "'''Write a python script to check whether a given pair of numbers are co-Prime\n",
    "numbers or not.'''\n",
    "from math import gcd\n",
    "n1=int(input(\"Enter 1st number:\"))\n",
    "n2=int(input(\"Enter 2nd number:\"))\n",
    "if gcd(n1,n2)==1:\n",
    "    print(\"Given numbers are co-prime:\")\n",
    "else:\n",
    "    print(\"Given numbers are not co-prime:\")\n",
    "    "
   ]
  },
  {
   "cell_type": "code",
   "execution_count": 43,
   "id": "9eb90461",
   "metadata": {},
   "outputs": [
    {
     "name": "stdout",
     "output_type": "stream",
     "text": [
      "Enter the number of terms needed in fibonacci series:14\n",
      "1 2 3 5 8 13 21 34 55 89 144 233 "
     ]
    }
   ],
   "source": [
    "# Write a python script to print first N terms of a Fibonacci series.\n",
    "N=int(input(\"Enter the number of terms needed in fibonacci series:\"))\n",
    "f1,f2=0,1 # because fibonaccie series start with 0 and its is sum of two previous number.\n",
    "if N==1:\n",
    "    print(f1,end=' ')\n",
    "elif N==2:\n",
    "    print(f1,f2,end=' ')\n",
    "else:\n",
    "    for i in range(3,N+1):\n",
    "        f3=f1+f2\n",
    "        print(f3,end=' ')\n",
    "        f1=f2\n",
    "        f2=f3"
   ]
  },
  {
   "cell_type": "code",
   "execution_count": 44,
   "id": "3af32388",
   "metadata": {},
   "outputs": [
    {
     "name": "stdout",
     "output_type": "stream",
     "text": [
      "Enter two numbers:\n",
      "10\n",
      "12\n"
     ]
    },
    {
     "data": {
      "text/plain": [
       "60"
      ]
     },
     "execution_count": 44,
     "metadata": {},
     "output_type": "execute_result"
    }
   ],
   "source": [
    "# Write a python script to calculate LCM of two numbers.\n",
    "from math import lcm\n",
    "print(\"Enter two numbers:\")\n",
    "n1,n2=int(input()),int(input())\n",
    "lcm(n1,n2)"
   ]
  },
  {
   "cell_type": "code",
   "execution_count": 46,
   "id": "e34e79a9",
   "metadata": {},
   "outputs": [
    {
     "name": "stdout",
     "output_type": "stream",
     "text": [
      "Enter two numbers:\n",
      "10\n",
      "12\n"
     ]
    },
    {
     "data": {
      "text/plain": [
       "2"
      ]
     },
     "execution_count": 46,
     "metadata": {},
     "output_type": "execute_result"
    }
   ],
   "source": [
    "# Write a python script to calculate HCF of two numbers.\n",
    "from math import gcd\n",
    "print(\"Enter two numbers:\")\n",
    "n1,n2=int(input()),int(input())\n",
    "gcd(n1,n2)"
   ]
  },
  {
   "cell_type": "code",
   "execution_count": null,
   "id": "4882b8b0",
   "metadata": {},
   "outputs": [],
   "source": []
  }
 ],
 "metadata": {
  "kernelspec": {
   "display_name": "Python 3 (ipykernel)",
   "language": "python",
   "name": "python3"
  },
  "language_info": {
   "codemirror_mode": {
    "name": "ipython",
    "version": 3
   },
   "file_extension": ".py",
   "mimetype": "text/x-python",
   "name": "python",
   "nbconvert_exporter": "python",
   "pygments_lexer": "ipython3",
   "version": "3.9.7"
  }
 },
 "nbformat": 4,
 "nbformat_minor": 5
}
